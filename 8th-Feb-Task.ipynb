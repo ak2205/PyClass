{
 "cells": [
  {
   "cell_type": "code",
   "execution_count": 6,
   "id": "7e76df8d",
   "metadata": {},
   "outputs": [
    {
     "name": "stdout",
     "output_type": "stream",
     "text": [
      "Concatenated list using list.extend() : [9, 7, 6, 4, 3, 7, 4, 5, 3, 2, 8, 9, 1]\n",
      "1\n",
      "68\n",
      "1\n",
      "9\n"
     ]
    }
   ],
   "source": [
    "#Concatenation of Lists \n",
    "\n",
    "list1 = [9,7,6,4,3]\n",
    "list2 = [7,4,5,3,2,8,9,1]\n",
    "list1.extend(list2)\n",
    "\n",
    "print (\"Concatenated list using list.extend() : \" + str(list1))\n",
    "print(list1.count(8))\n",
    "print(sum(list1))\n",
    "print(min(list1))\n",
    "print(max(list1))"
   ]
  },
  {
   "cell_type": "code",
   "execution_count": 2,
   "id": "fc4ae075",
   "metadata": {},
   "outputs": [
    {
     "name": "stdout",
     "output_type": "stream",
     "text": [
      "List 1: [1, 2]\n",
      "List 2: [1, 2]\n"
     ]
    }
   ],
   "source": [
    "#Emptying a List\n",
    "\n",
    "norm1=[]\n",
    "norm1.append(1)\n",
    "norm1.append(2)\n",
    " \n",
    "norm2=list()\n",
    "norm2.append(1)\n",
    "norm2.append(2)\n",
    " \n",
    "print(\"List 1:\",norm1)\n",
    "print(\"List 2:\",norm2)"
   ]
  },
  {
   "cell_type": "code",
   "execution_count": 3,
   "id": "001d3670",
   "metadata": {},
   "outputs": [
    {
     "name": "stdout",
     "output_type": "stream",
     "text": [
      "The original list : [18, 10, 7, 45, 77, 99]\n",
      "45\n",
      "18\n",
      "Median of list is : 31.5\n"
     ]
    }
   ],
   "source": [
    "#Finding median of a list\n",
    "\n",
    "list1 = [18,10,7,45,77,99]\n",
    "print(\"The original list : \" + str(list1))\n",
    "list1.sort()\n",
    "mid = len(list1) // 2\n",
    "\n",
    "median = (list1[mid] + list1[~mid]) / 2\n",
    "print (list1[mid])\n",
    "print (list1[~mid])\n",
    "print(\"Median of list is : \" + str(median))"
   ]
  },
  {
   "cell_type": "code",
   "execution_count": 4,
   "id": "2e948cdb",
   "metadata": {},
   "outputs": [
    {
     "name": "stdout",
     "output_type": "stream",
     "text": [
      "The list is :  (56, 27, 43, 23, 14, 12, 8, 7)\n",
      "[7, 8, 43, 12, 14, 23, 56, 27]\n"
     ]
    }
   ],
   "source": [
    "#remove a duplicate from a list\n",
    "\n",
    "list1 = (56, 27, 43, 23, 14, 12, 8, 7)\n",
    "print (\"The list is : \" ,str(list1))\n",
    "\n",
    "list1 = list(set(list1))\n",
    "\n",
    "print(list1)"
   ]
  },
  {
   "cell_type": "code",
   "execution_count": null,
   "id": "d3ca9e72",
   "metadata": {},
   "outputs": [],
   "source": []
  }
 ],
 "metadata": {
  "kernelspec": {
   "display_name": "Python 3",
   "language": "python",
   "name": "python3"
  },
  "language_info": {
   "codemirror_mode": {
    "name": "ipython",
    "version": 3
   },
   "file_extension": ".py",
   "mimetype": "text/x-python",
   "name": "python",
   "nbconvert_exporter": "python",
   "pygments_lexer": "ipython3",
   "version": "3.8.8"
  }
 },
 "nbformat": 4,
 "nbformat_minor": 5
}
