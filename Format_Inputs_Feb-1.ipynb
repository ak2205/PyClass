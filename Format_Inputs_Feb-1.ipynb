{
 "cells": [
  {
   "cell_type": "code",
   "execution_count": 1,
   "id": "e21c4edf",
   "metadata": {},
   "outputs": [
    {
     "name": "stdout",
     "output_type": "stream",
     "text": [
      "Enter value of radius3\n",
      "Enter the height3\n",
      "Area of a circle = 28\n",
      "Perimeter of circle is =  18\n",
      "Volume of a cone is = 27\n"
     ]
    }
   ],
   "source": [
    "pi=3.14\n",
    "r=float(input(\"Enter value of radius\"))\n",
    "h=float(input(\"Enter the height\"))\n",
    "\n",
    "area_circle = int(pi*r*r)\n",
    "print(\"Area of a circle =\", area_circle)\n",
    "\n",
    "perimeter = int(2*pi*r)\n",
    "print(\"Perimeter of circle is = \", perimeter)\n",
    "\n",
    "vol_cone = int(0.33*pi*r*r*h)\n",
    "print(\"Volume of a cone is =\", vol_cone)"
   ]
  },
  {
   "cell_type": "code",
   "execution_count": 2,
   "id": "13097797",
   "metadata": {},
   "outputs": [
    {
     "name": "stdout",
     "output_type": "stream",
     "text": [
      "Enter the height4.5\n",
      "Area of a circle = 326\n",
      "Area of circle with radius 10.2 is 326\n",
      "Area of circle is 326 with radius 10.2\n",
      "Perimeter of circle is =  64\n",
      "Perimeter of circle with radius 10.2 is 64\n",
      "The perimeter of circle is 64with radius 10.2\n",
      "Volume of a cone is = 485\n",
      "The Volume of cone with radius 10.2 height 4.5 is 485\n",
      "The Volume of cone is 485 with radius 10.2 height4.5\n"
     ]
    }
   ],
   "source": [
    "pi=3.14\n",
    "r=10.2\n",
    "h=float(input(\"Enter the height\"))\n",
    "\n",
    "area_circle = int(pi*r*r)\n",
    "print(\"Area of a circle =\", area_circle)\n",
    "print(\"Area of circle with radius {} is {}\".format(r,area_circle))\n",
    "print(\"Area of circle is {1} with radius {0}\".format(r,area_circle))\n",
    "\n",
    "perimeter = int(2*pi*r)\n",
    "print(\"Perimeter of circle is = \", perimeter)\n",
    "print(\"Perimeter of circle with radius {} is {}\".format(r,perimeter))\n",
    "print(\"The perimeter of circle is {1}with radius {0}\".format(r,perimeter))\n",
    "\n",
    "vol_cone = int(0.33*pi*r*r*h)\n",
    "print(\"Volume of a cone is =\", vol_cone)\n",
    "print(\"The Volume of cone with radius {} height {} is {}\".format(r,h,vol_cone))\n",
    "print(\"The Volume of cone is {2} with radius {0} height{1}\".format(r,h,vol_cone))"
   ]
  },
  {
   "cell_type": "code",
   "execution_count": null,
   "id": "2f089d34",
   "metadata": {},
   "outputs": [],
   "source": []
  }
 ],
 "metadata": {
  "kernelspec": {
   "display_name": "Python 3",
   "language": "python",
   "name": "python3"
  },
  "language_info": {
   "codemirror_mode": {
    "name": "ipython",
    "version": 3
   },
   "file_extension": ".py",
   "mimetype": "text/x-python",
   "name": "python",
   "nbconvert_exporter": "python",
   "pygments_lexer": "ipython3",
   "version": "3.8.8"
  }
 },
 "nbformat": 4,
 "nbformat_minor": 5
}
