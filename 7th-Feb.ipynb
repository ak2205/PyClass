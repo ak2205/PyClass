{
 "cells": [
  {
   "cell_type": "code",
   "execution_count": 2,
   "id": "72505632",
   "metadata": {},
   "outputs": [
    {
     "name": "stdout",
     "output_type": "stream",
     "text": [
      "Dortmund\n",
      "m\n"
     ]
    }
   ],
   "source": [
    "#Task-1\n",
    "def mid_char(str):\n",
    "    length = len(str)\n",
    "    middle = length // 2\n",
    "    print(str[middle])\n",
    "str = input()\n",
    "mid_char(str)"
   ]
  },
  {
   "cell_type": "code",
   "execution_count": 3,
   "id": "860b5577",
   "metadata": {},
   "outputs": [
    {
     "name": "stdout",
     "output_type": "stream",
     "text": [
      "python\n",
      "***python\n",
      "python***\n",
      "python\n",
      "**python\n",
      "python********\n",
      "java\n",
      "********java\n",
      "java*******\n"
     ]
    }
   ],
   "source": [
    "# Task-2\n",
    "str1 = \"***python***\"\n",
    "str2= \"**python********\"\n",
    "str3= \"********java*******\"\n",
    "\n",
    "print(str1.strip('*'))\n",
    "print(str1.rstrip('*'))\n",
    "print(str1.lstrip('*'))\n",
    "\n",
    "print(str2.strip('*'))\n",
    "print(str2.rstrip('*'))\n",
    "print(str2.lstrip('*'))\n",
    "\n",
    "print(str3.strip('*'))\n",
    "print(str3.rstrip('*'))\n",
    "print(str3.lstrip('*'))"
   ]
  },
  {
   "cell_type": "code",
   "execution_count": 8,
   "id": "8f9942ba",
   "metadata": {},
   "outputs": [
    {
     "name": "stdout",
     "output_type": "stream",
     "text": [
      "10.30+12.19+20.20 is::42.69\n"
     ]
    }
   ],
   "source": [
    "#Task3= (name<space>float)\n",
    "\n",
    "str1 = \"ravi 10.30\"  \n",
    "str2 = \"meghala 12.19\"\n",
    "str3 = \"Gokul 20.20\"\n",
    "\n",
    "x = str1.split()\n",
    "y = str2.split()\n",
    "z = str3.split()\n",
    "\n",
    "print(\"{}+{}+{}\".format(x[1],y[1],z[1]),end=\" is::\")\n",
    "print(float(x[1])+float(y[1])+float(z[1]))"
   ]
  },
  {
   "cell_type": "code",
   "execution_count": 22,
   "id": "00a71e80",
   "metadata": {},
   "outputs": [
    {
     "name": "stdout",
     "output_type": "stream",
     "text": [
      "enter the string1daz\n",
      "enter the string2lee\n"
     ]
    },
    {
     "ename": "TypeError",
     "evalue": "'str' object is not callable",
     "output_type": "error",
     "traceback": [
      "\u001b[1;31m---------------------------------------------------------------------------\u001b[0m",
      "\u001b[1;31mTypeError\u001b[0m                                 Traceback (most recent call last)",
      "\u001b[1;32m<ipython-input-22-ee4611b1cd8f>\u001b[0m in \u001b[0;36m<module>\u001b[1;34m\u001b[0m\n\u001b[0;32m      9\u001b[0m \u001b[0mstring4\u001b[0m\u001b[1;33m=\u001b[0m\u001b[0mword_a\u001b[0m\u001b[1;33m[\u001b[0m\u001b[1;36m0\u001b[0m\u001b[1;33m]\u001b[0m\u001b[1;33m+\u001b[0m\u001b[0mword_b\u001b[0m\u001b[1;33m[\u001b[0m\u001b[1;36m1\u001b[0m\u001b[1;33m:\u001b[0m\u001b[0mstr2_len\u001b[0m\u001b[1;33m+\u001b[0m\u001b[1;36m1\u001b[0m\u001b[1;33m]\u001b[0m\u001b[1;33m\u001b[0m\u001b[1;33m\u001b[0m\u001b[0m\n\u001b[0;32m     10\u001b[0m \u001b[1;33m\u001b[0m\u001b[0m\n\u001b[1;32m---> 11\u001b[1;33m \u001b[0mprint\u001b[0m\u001b[1;33m(\u001b[0m\u001b[0mstring3\u001b[0m\u001b[1;33m+\u001b[0m\u001b[0mstring4\u001b[0m\u001b[1;33m+\u001b[0m\u001b[0mstr\u001b[0m\u001b[1;33m(\u001b[0m\u001b[0mstr1_len\u001b[0m\u001b[1;33m)\u001b[0m\u001b[1;33m+\u001b[0m\u001b[0mstr\u001b[0m\u001b[1;33m(\u001b[0m\u001b[0mstr2_len\u001b[0m\u001b[1;33m)\u001b[0m\u001b[1;33m+\u001b[0m\u001b[0mstring1\u001b[0m\u001b[1;33m[\u001b[0m\u001b[1;36m2\u001b[0m\u001b[1;33m:\u001b[0m\u001b[1;36m4\u001b[0m\u001b[1;33m]\u001b[0m\u001b[1;33m)\u001b[0m\u001b[1;33m\u001b[0m\u001b[1;33m\u001b[0m\u001b[0m\n\u001b[0m",
      "\u001b[1;31mTypeError\u001b[0m: 'str' object is not callable"
     ]
    }
   ],
   "source": [
    "#Task4\n",
    "word_a=input(\"enter the string1\")\n",
    "word_b=input(\"enter the string2\")\n",
    "\n",
    "str1_len=len(word_a)\n",
    "str2_len=len(word_b)\n",
    "\n",
    "string3=word_b[0]+word_a[1:str1_len+1]\n",
    "string4=word_a[0]+word_b[1:str2_len+1]\n",
    "\n",
    "print(string3+string4+str(str1_len)+str(str2_len)+string1[2:4])"
   ]
  },
  {
   "cell_type": "code",
   "execution_count": 20,
   "id": "57ab5b80",
   "metadata": {},
   "outputs": [
    {
     "name": "stdout",
     "output_type": "stream",
     "text": [
      "211\n"
     ]
    }
   ],
   "source": [
    "#Task5\n",
    "\n",
    "noun_1 = \"wikipedia\"\n",
    "noun_2 = \"typescript\"\n",
    "\n",
    "str1 = len(noun_1)\n",
    "str2 = len(noun_2)\n",
    "\n",
    "index1 = str1//2\n",
    "index2 = str2//2\n",
    "\n",
    "print(ord(noun_1[index1])+ord('c'))"
   ]
  },
  {
   "cell_type": "code",
   "execution_count": 23,
   "id": "77c0c3e1",
   "metadata": {},
   "outputs": [
    {
     "name": "stdout",
     "output_type": "stream",
     "text": [
      "Enter the stringVanderbilt\n"
     ]
    },
    {
     "ename": "TypeError",
     "evalue": "'str' object is not callable",
     "output_type": "error",
     "traceback": [
      "\u001b[1;31m---------------------------------------------------------------------------\u001b[0m",
      "\u001b[1;31mTypeError\u001b[0m                                 Traceback (most recent call last)",
      "\u001b[1;32m<ipython-input-23-3c6dd898a665>\u001b[0m in \u001b[0;36m<module>\u001b[1;34m\u001b[0m\n\u001b[0;32m      4\u001b[0m \u001b[0mstr1\u001b[0m\u001b[1;33m=\u001b[0m\u001b[0mlen\u001b[0m\u001b[1;33m(\u001b[0m\u001b[0mstring1\u001b[0m\u001b[1;33m)\u001b[0m\u001b[1;33m\u001b[0m\u001b[1;33m\u001b[0m\u001b[0m\n\u001b[0;32m      5\u001b[0m \u001b[1;33m\u001b[0m\u001b[0m\n\u001b[1;32m----> 6\u001b[1;33m \u001b[0mprint\u001b[0m\u001b[1;33m(\u001b[0m\u001b[0mstring1\u001b[0m\u001b[1;33m[\u001b[0m\u001b[1;36m0\u001b[0m\u001b[1;33m]\u001b[0m\u001b[1;33m+\u001b[0m\u001b[0mstr\u001b[0m\u001b[1;33m(\u001b[0m\u001b[0mlen\u001b[0m\u001b[1;33m(\u001b[0m\u001b[0mstring1\u001b[0m\u001b[1;33m[\u001b[0m\u001b[1;36m1\u001b[0m\u001b[1;33m:\u001b[0m\u001b[0mstr1\u001b[0m\u001b[1;33m-\u001b[0m\u001b[1;36m1\u001b[0m\u001b[1;33m]\u001b[0m\u001b[1;33m)\u001b[0m\u001b[1;33m)\u001b[0m\u001b[1;33m+\u001b[0m\u001b[0mstring1\u001b[0m\u001b[1;33m[\u001b[0m\u001b[0mstr1\u001b[0m\u001b[1;33m-\u001b[0m\u001b[1;36m1\u001b[0m\u001b[1;33m]\u001b[0m\u001b[1;33m)\u001b[0m\u001b[1;33m\u001b[0m\u001b[1;33m\u001b[0m\u001b[0m\n\u001b[0m",
      "\u001b[1;31mTypeError\u001b[0m: 'str' object is not callable"
     ]
    }
   ],
   "source": [
    "#Task6\n",
    "\n",
    "string1=input(\"Enter the string\")\n",
    "str1=len(string1)\n",
    "\n",
    "print(string1[0]+str(len(string1[1:str1-1]))+string1[str1-1])\n"
   ]
  },
  {
   "cell_type": "code",
   "execution_count": 24,
   "id": "b5df57dd",
   "metadata": {},
   "outputs": [
    {
     "name": "stdout",
     "output_type": "stream",
     "text": [
      "Catastrophe\n"
     ]
    }
   ],
   "source": [
    "#Task 7 -hello world\n",
    "\n",
    "verb = \"Catastrophe\"\n",
    "print(verb)"
   ]
  },
  {
   "cell_type": "code",
   "execution_count": 25,
   "id": "4674b2fe",
   "metadata": {},
   "outputs": [
    {
     "name": "stdout",
     "output_type": "stream",
     "text": [
      "cATASTROPHE\n"
     ]
    }
   ],
   "source": [
    "#Task 8 - Swapcase\n",
    "\n",
    "print(verb.swapcase())"
   ]
  },
  {
   "cell_type": "code",
   "execution_count": 26,
   "id": "c91d8e2c",
   "metadata": {},
   "outputs": [
    {
     "name": "stdout",
     "output_type": "stream",
     "text": [
      "5\n",
      "7\n",
      "12\n",
      "-2\n",
      "35\n"
     ]
    }
   ],
   "source": [
    "#task-11 - Arithmetic Operator\n",
    "\n",
    "if __name__ == '__main__':\n",
    "    a = int(input())\n",
    "    b = int(input())\n",
    "    print(a+b)\n",
    "    print(a-b)\n",
    "    print(a*b)"
   ]
  },
  {
   "cell_type": "code",
   "execution_count": 27,
   "id": "8a02c761",
   "metadata": {},
   "outputs": [
    {
     "name": "stdout",
     "output_type": "stream",
     "text": [
      "20\n",
      "12\n",
      "1\n",
      "1.6666666666666667\n"
     ]
    }
   ],
   "source": [
    "#Task-12 - python division\n",
    "\n",
    "if __name__ == '__main__':\n",
    "    a = int(input())\n",
    "    b = int(input())\n",
    "    print(a//b)\n",
    "    print(a/b)"
   ]
  },
  {
   "cell_type": "code",
   "execution_count": 29,
   "id": "6d67eb83",
   "metadata": {},
   "outputs": [
    {
     "name": "stdout",
     "output_type": "stream",
     "text": [
      "Akilesh\n",
      "Waran\n",
      "Hello Akilesh Waran! You just delved into python.\n"
     ]
    }
   ],
   "source": [
    "#task-9-Whats your name\n",
    "\n",
    "def print_full_name(first, last):\n",
    "    last = last+\"!\"\n",
    "    print(\"Hello\",first, last,\"You just delved into python.\")\n",
    "\n",
    "if __name__ == '__main__':\n",
    "    first_name = input()\n",
    "    last_name = input()\n",
    "    print_full_name(first_name, last_name)"
   ]
  }
 ],
 "metadata": {
  "kernelspec": {
   "display_name": "Python 3",
   "language": "python",
   "name": "python3"
  },
  "language_info": {
   "codemirror_mode": {
    "name": "ipython",
    "version": 3
   },
   "file_extension": ".py",
   "mimetype": "text/x-python",
   "name": "python",
   "nbconvert_exporter": "python",
   "pygments_lexer": "ipython3",
   "version": "3.8.8"
  }
 },
 "nbformat": 4,
 "nbformat_minor": 5
}
