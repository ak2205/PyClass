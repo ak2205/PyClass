{
 "cells": [
  {
   "cell_type": "code",
   "execution_count": 1,
   "id": "86e7dbef",
   "metadata": {},
   "outputs": [
    {
     "name": "stdout",
     "output_type": "stream",
     "text": [
      "pythonjavac\n"
     ]
    }
   ],
   "source": [
    "#Task1 \n",
    "#Write function to concatenate three strings\n",
    "\n",
    "def my_function(x,y,z):\n",
    "    return x+y+z\n",
    "print(my_function(\"python\",\"java\",\"c\"))"
   ]
  },
  {
   "cell_type": "code",
   "execution_count": 2,
   "id": "79e1f688",
   "metadata": {},
   "outputs": [
    {
     "name": "stdout",
     "output_type": "stream",
     "text": [
      "168\n"
     ]
    }
   ],
   "source": [
    "#task2\n",
    "#Write a function multiply three different integers and return a int\n",
    "\n",
    "def my_function(x,y,z):\n",
    "     return x*y*z\n",
    "print(my_function(4,7,6))"
   ]
  },
  {
   "cell_type": "code",
   "execution_count": 3,
   "id": "dc48b124",
   "metadata": {},
   "outputs": [
    {
     "name": "stdout",
     "output_type": "stream",
     "text": [
      "h\n",
      "b\n"
     ]
    }
   ],
   "source": [
    "#task3\n",
    "#Write a function to return middle char of the string\n",
    "\n",
    "def my_function(string):\n",
    "    return string[(len(string)//2)]\n",
    "print(my_function(\"python\"))\n",
    "print(my_function(\"bbb\"))"
   ]
  },
  {
   "cell_type": "code",
   "execution_count": 5,
   "id": "7f3ee03e",
   "metadata": {},
   "outputs": [
    {
     "name": "stdout",
     "output_type": "stream",
     "text": [
      "l\n",
      "not vowel\n",
      "r\n",
      "not vowel\n"
     ]
    }
   ],
   "source": [
    "#task4\n",
    "#write a function to return whether middle character is vowel or not\n",
    "\n",
    "#vowels = ('a','e','i','o','u')\n",
    "\n",
    "def my_function(string):\n",
    "     mid = string[(len(string)//2)]\n",
    "     print(mid)\n",
    "     if (mid=='a' or mid=='e' or mid=='i' or mid=='o'or mid=='u'):\n",
    "        return \"vowel\"\n",
    "     else:\n",
    "         return \"not vowel\"\n",
    "    \n",
    "print(my_function(\"Akilesh\"))\n",
    "print(my_function(\"Waran\"))"
   ]
  },
  {
   "cell_type": "code",
   "execution_count": null,
   "id": "61455b1c",
   "metadata": {},
   "outputs": [],
   "source": []
  }
 ],
 "metadata": {
  "kernelspec": {
   "display_name": "Python 3",
   "language": "python",
   "name": "python3"
  },
  "language_info": {
   "codemirror_mode": {
    "name": "ipython",
    "version": 3
   },
   "file_extension": ".py",
   "mimetype": "text/x-python",
   "name": "python",
   "nbconvert_exporter": "python",
   "pygments_lexer": "ipython3",
   "version": "3.8.8"
  }
 },
 "nbformat": 4,
 "nbformat_minor": 5
}
