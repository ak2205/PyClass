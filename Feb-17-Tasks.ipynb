{
 "cells": [
  {
   "cell_type": "code",
   "execution_count": 1,
   "id": "a39923f9",
   "metadata": {},
   "outputs": [
    {
     "name": "stdout",
     "output_type": "stream",
     "text": [
      "mutiple of 5 is : [0, 5, 10, 15, 20, 25, 30, 35, 40, 45, 50, 55, 60, 65, 70]\n",
      "mutiple of 8 is : [0, 8, 16, 24, 32, 40, 48, 56, 64]\n",
      "mutiple of 5 in reverse is : [75, 70, 65, 60, 55, 50, 45, 40, 35, 30, 25, 20, 15, 10, 5]\n",
      "mutiple of 8 in reverse is : [96, 88, 80]\n"
     ]
    }
   ],
   "source": [
    "#TASK1\n",
    "\n",
    "#Using Range function  print multiples of 5 from 0 to 75\n",
    "#Using Range function  print multiples of 8 from 0 to 72\n",
    "#Using Range function  print multiples of 5 from 75 to 0\n",
    "#Using Range function  print multiples of 8 from 96 to 72 \n",
    "\n",
    "print(\"mutiple of 5 is :\",list(range(0,75,5)))\n",
    "print(\"mutiple of 8 is :\",list(range(0,72,8)))\n",
    "print(\"mutiple of 5 in reverse is :\",list(range(75,0,-5)))\n",
    "print(\"mutiple of 8 in reverse is :\",list(range(96,72,-8)))"
   ]
  },
  {
   "cell_type": "code",
   "execution_count": 3,
   "id": "3afb52f6",
   "metadata": {},
   "outputs": [
    {
     "name": "stdout",
     "output_type": "stream",
     "text": [
      "enter no of the elements:5\n",
      "enter the elements for list :12345678\n",
      "enter the elements for list :12\n",
      "enter the elements for list :1\n",
      "enter the elements for list :4\n",
      "enter the elements for list :5\n",
      "The final list is : [12345678, 12, 1, 4, 5]\n"
     ]
    }
   ],
   "source": [
    "#Task2\n",
    "\n",
    "#Get a dynamic list from user\n",
    "\n",
    "#get the elements from user\n",
    "list1 =[]\n",
    "n = int(input(\"enter no of the elements:\"))\n",
    "\n",
    "#conditions\n",
    "for i in range(0,n):\n",
    "    val = int(input(\"enter the elements for list :\"))\n",
    "    list1.append(val)\n",
    "    \n",
    "#print the final list                \n",
    "print(\"The final list is :\",list1)"
   ]
  },
  {
   "cell_type": "code",
   "execution_count": 4,
   "id": "5eb2eb06",
   "metadata": {},
   "outputs": [
    {
     "name": "stdout",
     "output_type": "stream",
     "text": [
      "enter the number of keys:5\n",
      "enter the keys:12\n",
      "enter the value :34\n",
      "enter the keys:56\n",
      "enter the value :78\n",
      "enter the keys:99\n",
      "enter the value :100\n",
      "enter the keys:120\n",
      "enter the value :140\n",
      "enter the keys:160\n",
      "enter the value :180\n",
      "{12: '34', 56: '78', 99: '100', 120: '140', 160: '180'}\n"
     ]
    }
   ],
   "source": [
    "#TASK3\n",
    "\n",
    "#assigning empty dictionary to get keys and values\n",
    "\n",
    "dict1 ={}\n",
    "#input elements from user\n",
    "n = int(input(\"enter the number of keys:\"))\n",
    "\n",
    "#conditions\n",
    "for i in range(0,n):\n",
    "    key = int(input(\"enter the keys:\"))\n",
    "    val = input(\"enter the value :\")\n",
    "    dict1[key]= val\n",
    "    \n",
    "#print the final dict\n",
    "print(dict1)"
   ]
  },
  {
   "cell_type": "code",
   "execution_count": 6,
   "id": "650ab61c",
   "metadata": {},
   "outputs": [
    {
     "name": "stdout",
     "output_type": "stream",
     "text": [
      "enter the no1:10\n",
      "enter the no2:80\n",
      "multiple of 8 is: [16, 24, 32, 40, 48, 56, 64, 72]\n"
     ]
    }
   ],
   "source": [
    "#TASK4\n",
    "\n",
    "#get two integers from users\n",
    "\n",
    "list1 = []\n",
    "n1 = int(input(\"enter the no1:\"))\n",
    "n2 = int(input(\"enter the no2:\"))\n",
    "for i in range(n1,n2):\n",
    "    if (i%8==0):\n",
    "        list1.append(i)\n",
    "\n",
    "#print the multiple of 8 \n",
    "\n",
    "print(\"multiple of 8 is:\",list1)"
   ]
  },
  {
   "cell_type": "code",
   "execution_count": 7,
   "id": "d5e5b12e",
   "metadata": {},
   "outputs": [
    {
     "name": "stdout",
     "output_type": "stream",
     "text": [
      "ODD :  [3, 5, 7, 9]\n",
      "EVEN : [4, 2, 8, 10]\n"
     ]
    }
   ],
   "source": [
    "#TASK5\n",
    "\n",
    "#Input:\n",
    "Li1 = [3,4,5,2,7,8,9,10]\n",
    "\n",
    "#empty list for appending odd and even\n",
    "li_odd = []\n",
    "li_even =[]\n",
    "\n",
    "#condition for odd and even\n",
    "for i in Li1:\n",
    "    if i%2==1:\n",
    "        li_odd.append(i)\n",
    "    else:\n",
    "         li_even.append(i)\n",
    "         \n",
    "#print odd values\n",
    "print(\"ODD : \",li_odd)\n",
    "\n",
    "#print even values\n",
    "print(\"EVEN :\",li_even)"
   ]
  },
  {
   "cell_type": "code",
   "execution_count": 8,
   "id": "21a739b8",
   "metadata": {},
   "outputs": [
    {
     "name": "stdout",
     "output_type": "stream",
     "text": [
      "The positive elements are: [8, 10, 20, 21, 17, 28]\n",
      "The negative elements are: [-1, -7, -3]\n",
      "The zeros are [0, 0]\n",
      "number of positive elements is : 3\n",
      "number of negative elements is: 6\n",
      "number of zero is: 2\n"
     ]
    }
   ],
   "source": [
    "#TASK6\n",
    "\n",
    "li1 = [-1, -7,8,10,20,21,17,28,-3,0,0,]\n",
    "    \n",
    "#input empty list\n",
    "\n",
    "x = []\n",
    "y = []\n",
    "z = []\n",
    "\n",
    "for i in li1:\n",
    "    if i<0:\n",
    "        x.append(i)\n",
    "                      \n",
    "    elif i>0:\n",
    "        y.append(i)\n",
    "    else:\n",
    "        z.append(i)\n",
    "                \n",
    "#print pos,neg and zero elements\n",
    "\n",
    "print(\"The positive elements are:\",y)\n",
    "print(\"The negative elements are:\",x)\n",
    "print(\"The zeros are\",z)\n",
    "\n",
    "#print the count of pos,neg and zero lists\n",
    "\n",
    "print(\"number of positive elements is :\",len(x))\n",
    "print(\"number of negative elements is:\",len(y))\n",
    "print(\"number of zero is:\",len(z))"
   ]
  },
  {
   "cell_type": "code",
   "execution_count": 9,
   "id": "002bbb52",
   "metadata": {},
   "outputs": [
    {
     "name": "stdout",
     "output_type": "stream",
     "text": [
      "[0, 1, 2, 3, 4]\n",
      "[1, 2, 3, 4]\n",
      "[5, 6, 7, 8, 9, 10, 11, 12, 13, 14, 15, 16, 17, 18, 19]\n",
      "[-5, -4, -3, -2, -1, 0, 1, 2, 3, 4]\n",
      "[10, 20, 30, 40, 50, 60, 70, 80, 90]\n",
      "[10, 9, 8, 7, 6, 5, 4, 3, 2, 1]\n",
      "[-5, -2, 1, 4]\n",
      "[10, 15, 20, 25, 30, 35, 40, 45, 50, 55, 60, 65, 70, 75, 80, 85, 90, 95]\n",
      "[10, 8, 6, 4, 2]\n"
     ]
    }
   ],
   "source": [
    "#TASK7\n",
    "\n",
    "#print in range function\n",
    "\n",
    "print(list(range(5)))\n",
    "print(list(range(1,5)))\n",
    "print(list(range(5,20)))\n",
    "print(list(range(-5,5)))\n",
    "print(list(range(10,100,10)))\n",
    "print(list(range(10,0,-1)))\n",
    "print(list(range(-5,5,3)))\n",
    "print(list(range(10,100,5)))\n",
    "print(list(range(10,0,-2)))"
   ]
  },
  {
   "cell_type": "code",
   "execution_count": null,
   "id": "b6257cb9",
   "metadata": {},
   "outputs": [],
   "source": []
  }
 ],
 "metadata": {
  "kernelspec": {
   "display_name": "Python 3",
   "language": "python",
   "name": "python3"
  },
  "language_info": {
   "codemirror_mode": {
    "name": "ipython",
    "version": 3
   },
   "file_extension": ".py",
   "mimetype": "text/x-python",
   "name": "python",
   "nbconvert_exporter": "python",
   "pygments_lexer": "ipython3",
   "version": "3.8.8"
  }
 },
 "nbformat": 4,
 "nbformat_minor": 5
}
