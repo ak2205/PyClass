{
 "cells": [
  {
   "cell_type": "code",
   "execution_count": 1,
   "id": "90891af6",
   "metadata": {},
   "outputs": [
    {
     "name": "stdout",
     "output_type": "stream",
     "text": [
      "enter the number:25\n",
      "buzz\n"
     ]
    }
   ],
   "source": [
    "#task3\n",
    "\n",
    "number=int(input(\"enter the number:\" ))\n",
    "\n",
    "if number%3==0 and number%5==0:\n",
    "    print(\"fizzbuzz\")\n",
    "elif number%3==0:\n",
    "    print(\"fizz\")\n",
    "elif number%5==0:\n",
    "    print(\"buzz\")\n",
    "else:\n",
    "    print(\"invalid number\")"
   ]
  },
  {
   "cell_type": "code",
   "execution_count": 2,
   "id": "e5d5db9b",
   "metadata": {},
   "outputs": [
    {
     "name": "stdout",
     "output_type": "stream",
     "text": [
      "M3 mark is:76\n",
      "valid mark\n",
      "PASS MARK: 76.0\n",
      "grade C\n"
     ]
    }
   ],
   "source": [
    "#Task4:\n",
    "\n",
    "\n",
    "mark1=float(input(\"M3 mark is:\" ))\n",
    "\n",
    "#validation\n",
    "\n",
    "if mark1>=0 and mark1<=100:\n",
    "    print(\"valid mark\")\n",
    "\n",
    "if mark1>=50 and mark1<=100:\n",
    "    print(\"PASS MARK:\" ,mark1)\n",
    "if mark1>=90 and mark1<=100:\n",
    "    print(\"grade A\")\n",
    "elif mark1>=80 and mark1<89:\n",
    "    print(\"grade B\")\n",
    "elif mark1>=70 and mark1<79:\n",
    "    print(\"grade C\")\n",
    "elif mark1>=60 and mark1<69:\n",
    "    print(\"grade D\")\n",
    "elif mark1>=50 and mark1<59:\n",
    "    print(\"grade E\")\n",
    "else:    \n",
    "    print(\"FAIL\")"
   ]
  },
  {
   "cell_type": "code",
   "execution_count": 3,
   "id": "1f8e8267",
   "metadata": {},
   "outputs": [
    {
     "name": "stdout",
     "output_type": "stream",
     "text": [
      "tamil mark is:87\n",
      "english mark is:88\n",
      "maths mark is:87\n",
      "total no of subjects:3\n",
      "87.33333333333333\n",
      "grade B\n"
     ]
    }
   ],
   "source": [
    "#Task 5:\n",
    "\n",
    "\n",
    "mark1=float(input(\"tamil mark is:\" ))\n",
    "mark2=float(input(\"english mark is:\" ))\n",
    "mark3=float(input(\"maths mark is:\" ))\n",
    "n=int(input(\"total no of subjects:\" ))\n",
    "\n",
    "total=(mark1+mark2+mark3)\n",
    "average= total/n\n",
    "\n",
    "print(average)\n",
    "\n",
    "if average>=90 and average<=100:\n",
    "    print(\"grade A\")\n",
    "elif average>=75 and average<90:\n",
    "    print(\"grade B\")\n",
    "elif average>=50 and average<75:\n",
    "    print(\"grade C\")\n",
    "else:    \n",
    "    print(\"grade D\")"
   ]
  },
  {
   "cell_type": "code",
   "execution_count": 4,
   "id": "93aac1ce",
   "metadata": {},
   "outputs": [
    {
     "name": "stdout",
     "output_type": "stream",
     "text": [
      "Enter a number: 5\n",
      "5 is Odd\n"
     ]
    }
   ],
   "source": [
    "#task6\n",
    "\n",
    "num = int(input(\"Enter a number: \"))\n",
    "if (num % 2) == 0:\n",
    "   print(\"{} is Even\".format(num))\n",
    "else:\n",
    "   print(\"{} is Odd\".format(num))"
   ]
  },
  {
   "cell_type": "code",
   "execution_count": null,
   "id": "20b935e6",
   "metadata": {},
   "outputs": [],
   "source": []
  }
 ],
 "metadata": {
  "kernelspec": {
   "display_name": "Python 3",
   "language": "python",
   "name": "python3"
  },
  "language_info": {
   "codemirror_mode": {
    "name": "ipython",
    "version": 3
   },
   "file_extension": ".py",
   "mimetype": "text/x-python",
   "name": "python",
   "nbconvert_exporter": "python",
   "pygments_lexer": "ipython3",
   "version": "3.8.8"
  }
 },
 "nbformat": 4,
 "nbformat_minor": 5
}
