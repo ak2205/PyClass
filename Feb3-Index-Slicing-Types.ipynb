{
 "cells": [
  {
   "cell_type": "code",
   "execution_count": 1,
   "id": "06ae1ea4",
   "metadata": {},
   "outputs": [
    {
     "name": "stdout",
     "output_type": "stream",
     "text": [
      "ormatio\n",
      "for\n",
      "informatio\n",
      "mation_Techn\n",
      "format\n",
      "informat\n",
      "mation_Technology\n",
      "ion_\n",
      "information_Technology\n",
      "\n"
     ]
    }
   ],
   "source": [
    "variable = \"information_Technology\"\n",
    "\n",
    "# 0    1    2    3    4    5    6    7    8    9   10   11    12   13   14   15   16   17   18   19   20   21\n",
    "# i    n    f    o    r    m    a    t    i    o    n    _    T    e    c    h    n    o    l    o    g    y\n",
    "# -22 -21  -20  -19  -18  -17  -16  -15  -14  -13  -12  -11  -10  -9   -8   -7   -6   -5   -4    -3   -2   -1\n",
    "\n",
    "print(variable[3:10])\n",
    "print(variable[2:5])\n",
    "print(variable[0:10])\n",
    "print(variable[5:-5])\n",
    "print(variable[2:8])\n",
    "print(variable[:8])\n",
    "print(variable[5:])\n",
    "print(variable[8:12])\n",
    "print(variable[:])\n",
    "print(variable[12:5])"
   ]
  },
  {
   "cell_type": "code",
   "execution_count": 2,
   "id": "683504f9",
   "metadata": {},
   "outputs": [
    {
     "name": "stdout",
     "output_type": "stream",
     "text": [
      "ormatio\n",
      "for\n",
      "informatio\n",
      "mation_Techn\n",
      "format\n",
      "informat\n",
      "mation_Technology\n",
      "ion_\n",
      "information_Technology\n",
      "\n",
      "ormatio\n",
      "omto\n",
      "oao\n",
      "mation_Techn\n",
      "mto_eh\n",
      "mnh\n",
      "ir\n",
      "mi_cog\n",
      "ifrainTcnlg\n",
      "\n",
      "frainTcnl\n",
      "\n",
      "\n",
      "glncTniar\n",
      "oaoThl\n",
      "\n",
      "\n",
      "onentr\n"
     ]
    }
   ],
   "source": [
    "#Here,\"information_Technology\" is taken as our sample variable in order to perform various ways of slicing.\n",
    "\n",
    "#Lets index each and every single letter according with their index positions.\n",
    "#Thus the index positions start from 0 until index 21.\n",
    "\n",
    "#i.e; \"information_Technology is both made to undergo forward as well as reverse indexing\"\n",
    "# 0    1    2    3    4    5    6    7    8    9   10   11    12   13   14   15   16   17   18   19   20   21\n",
    "# i    n    f    o    r    m    a    t    i    o    n    _    T    e    c    h    n    o    l    o    g    y\n",
    "# -22 -21  -20  -19  -18  -17  -16  -15  -14  -13  -12  -11  -10  -9   -8   -7   -6   -5   -4    -3   -2   -1\n",
    "\n",
    "vari = \"information_Technology\"\n",
    "\n",
    "print(vari[3:10])\n",
    "print(vari[2:5])\n",
    "print(vari[0:10])\n",
    "print(vari[5:-5])\n",
    "print(vari[2:8])\n",
    "print(vari[:8])\n",
    "print(vari[5:])\n",
    "print(vari[8:12])\n",
    "print(vari[:])\n",
    "print(vari[12:5])\n",
    "\n",
    "print(vari[3:10:1])\n",
    "print(vari[3:10:2])\n",
    "print(vari[3:10:3])\n",
    "print(vari[5:-5:1])\n",
    "print(vari[5:-5:2])\n",
    "print(vari[5:-5:5])\n",
    "print(vari[:8:4])\n",
    "print(vari[5::3])\n",
    "print(vari[::2])\n",
    "print(vari[12:5:3])\n",
    "\n",
    "print(vari[2:-2:2])\n",
    "print(vari[2:-2:-2])\n",
    "print(vari[-2:2:2])\n",
    "print(vari[-2:2:-2])\n",
    "print(vari[3:-3:3])\n",
    "print(vari[3:-3:-3])\n",
    "print(vari[-3:3:3])\n",
    "print(vari[-3:3:-3])"
   ]
  },
  {
   "cell_type": "code",
   "execution_count": null,
   "id": "683b45ae",
   "metadata": {},
   "outputs": [],
   "source": []
  }
 ],
 "metadata": {
  "kernelspec": {
   "display_name": "Python 3",
   "language": "python",
   "name": "python3"
  },
  "language_info": {
   "codemirror_mode": {
    "name": "ipython",
    "version": 3
   },
   "file_extension": ".py",
   "mimetype": "text/x-python",
   "name": "python",
   "nbconvert_exporter": "python",
   "pygments_lexer": "ipython3",
   "version": "3.8.8"
  }
 },
 "nbformat": 4,
 "nbformat_minor": 5
}
