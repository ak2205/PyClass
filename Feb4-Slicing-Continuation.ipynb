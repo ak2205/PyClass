{
 "cells": [
  {
   "cell_type": "code",
   "execution_count": 1,
   "id": "b0f8b5b8",
   "metadata": {},
   "outputs": [
    {
     "name": "stdout",
     "output_type": "stream",
     "text": [
      "golonhceT_noitamrofn\n",
      "mnh\n",
      "oTt\n",
      "\n",
      "\n",
      "\n",
      "\n",
      "lncTniar\n",
      "\n",
      "\n",
      "ylhToaoI\n",
      "yoohe_otmon\n",
      "\n",
      "frainTcnl\n",
      "mnh\n",
      "oaoThl\n",
      "IfrainTcnlg\n",
      "yn_an\n"
     ]
    }
   ],
   "source": [
    "#string slicing task - Feb 4\n",
    "\n",
    "var = \"Information_Technology\"\n",
    "print(var[-2:0:-1])\n",
    "print(var[5:-5:5])\n",
    "print(var[-5:5:-5])\n",
    "print(var[5:-5:-5])\n",
    "print(var[3:9:-1])\n",
    "print(var[9:-10:-2])\n",
    "print(var[2:-4:-4])\n",
    "print(var[-4:2:-2])\n",
    "print(var[0:-1:-3])\n",
    "print(var[-3:3:6])\n",
    "print(var[::-3])\n",
    "print(var[::-2])\n",
    "print(var[2:-2:-2])\n",
    "print(var[2:-2:2])\n",
    "print(var[5:-5:5])\n",
    "print(var[3:-3:3])\n",
    "print(var[::2])\n",
    "print(var[::-5])\n"
   ]
  },
  {
   "cell_type": "code",
   "execution_count": 2,
   "id": "29c7c94c",
   "metadata": {},
   "outputs": [
    {
     "name": "stdout",
     "output_type": "stream",
     "text": [
      "eterpretni_gnisu_si_nohty\n",
      "nu_r\n",
      "rnii\n",
      "\n",
      "\n",
      "\n",
      "\n",
      "epen_ns_inh\n",
      "\n",
      "\n",
      "rerngssnt\n",
      "rtrrtigius_otp\n",
      "\n",
      "to_suigitrrt\n",
      "nu_r\n",
      "h__i_tp\n",
      "pto_suigitrrtr\n",
      "rpis_y\n"
     ]
    }
   ],
   "source": [
    "varx = \"python_is_using_interpreter\"\n",
    "\n",
    "print(varx[-2:0:-1])\n",
    "print(varx[5:-5:5])\n",
    "print(varx[-5:5:-5])\n",
    "print(varx[5:-5:-5])\n",
    "print(varx[3:9:-1])\n",
    "print(varx[9:-10:-2])\n",
    "print(varx[2:-4:-4])\n",
    "print(varx[-4:2:-2])\n",
    "print(varx[0:-1:-3])\n",
    "print(varx[-3:3:6])\n",
    "print(varx[::-3])\n",
    "print(varx[::-2])\n",
    "print(varx[2:-2:-2])\n",
    "print(varx[2:-2:2])\n",
    "print(varx[5:-5:5])\n",
    "print(varx[3:-3:3])\n",
    "print(varx[::2])\n",
    "print(varx[::-5])"
   ]
  },
  {
   "cell_type": "code",
   "execution_count": 3,
   "id": "b6a72d25",
   "metadata": {},
   "outputs": [
    {
     "name": "stdout",
     "output_type": "stream",
     "text": [
      "es\n",
      "ienc\n",
      " \n",
      "t ic\n",
      "cmu\n",
      "ce\n",
      "ese\n",
      "tc\n",
      "pese\n",
      "i\n"
     ]
    }
   ],
   "source": [
    "vary = \"computer science\"\n",
    "\n",
    "print(vary[-10:10:3])\n",
    "print(vary[-5:-1:1])\n",
    "print(vary[-8:-2:10])\n",
    "print(vary[5::3])\n",
    "print(vary[:5:2])\n",
    "print(vary[10:14:2])\n",
    "print(vary[-10:-3:3])\n",
    "print(vary[5:12:5])\n",
    "print(vary[3:-3:3])\n",
    "print(vary[-5:-3:20])"
   ]
  },
  {
   "cell_type": "code",
   "execution_count": 4,
   "id": "c568927b",
   "metadata": {},
   "outputs": [
    {
     "name": "stdout",
     "output_type": "stream",
     "text": [
      "\n",
      "olog\n",
      "c\n",
      "mi_cog\n",
      "Ifr\n",
      "nt\n",
      "thl\n",
      "mn\n",
      "oaothl\n",
      "o\n"
     ]
    }
   ],
   "source": [
    "varz = \"Information_technology\"\n",
    "\n",
    "print(varz[-10:10:3])\n",
    "print(varz[-5:-1:1])\n",
    "print(varz[-8:-2:10])\n",
    "print(varz[5::3])\n",
    "print(varz[:5:2])\n",
    "print(varz[10:14:2])\n",
    "print(varz[-10:-3:3])\n",
    "print(varz[5:12:5])\n",
    "print(varz[3:-3:3])\n",
    "print(varz[-5:-3:20])\n"
   ]
  },
  {
   "cell_type": "code",
   "execution_count": 5,
   "id": "78bf39e3",
   "metadata": {},
   "outputs": [
    {
     "name": "stdout",
     "output_type": "stream",
     "text": [
      "\n",
      "owse\n",
      "_\n",
      "ehmbwr\n",
      "Gol\n",
      "oe\n",
      "mbw\n",
      "eo\n",
      "g_rer\n",
      "o\n"
     ]
    }
   ],
   "source": [
    "vart=\"Google_chrome_browser\"\n",
    "\n",
    "print(vart[-10:10:3])\n",
    "print(vart[-5:-1:1])\n",
    "print(vart[-8:-2:10])\n",
    "print(vart[5::3])\n",
    "print(vart[:5:2])\n",
    "print(vart[10:14:2])\n",
    "print(vart[-10:-3:3])\n",
    "print(vart[5:12:5])\n",
    "print(vart[3:-3:3])\n",
    "print(vart[-5:-3:20])\n"
   ]
  },
  {
   "cell_type": "code",
   "execution_count": null,
   "id": "f0cf014a",
   "metadata": {},
   "outputs": [],
   "source": []
  }
 ],
 "metadata": {
  "kernelspec": {
   "display_name": "Python 3",
   "language": "python",
   "name": "python3"
  },
  "language_info": {
   "codemirror_mode": {
    "name": "ipython",
    "version": 3
   },
   "file_extension": ".py",
   "mimetype": "text/x-python",
   "name": "python",
   "nbconvert_exporter": "python",
   "pygments_lexer": "ipython3",
   "version": "3.8.8"
  }
 },
 "nbformat": 4,
 "nbformat_minor": 5
}
