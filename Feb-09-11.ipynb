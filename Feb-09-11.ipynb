{
 "cells": [
  {
   "cell_type": "markdown",
   "id": "a0e5aeda",
   "metadata": {},
   "source": [
    "# TUPLE"
   ]
  },
  {
   "cell_type": "code",
   "execution_count": 2,
   "id": "08ba8215",
   "metadata": {},
   "outputs": [
    {
     "name": "stdout",
     "output_type": "stream",
     "text": [
      "Commonalities between Tuples : {8, 5, 6, 7}\n",
      "(1, 4, 5, 6, 7, 8, 5, 6, 7, 8, 9)\n",
      "Updated set is: (1, 4, 5, 6, 7, 8, 9)\n",
      "Index value of 9 is: 8\n",
      "Tuple times thrice is: (1, 4, 5, 6, 7, 8, 9, 1, 4, 5, 6, 7, 8, 9, 1, 4, 5, 6, 7, 8, 9)\n"
     ]
    }
   ],
   "source": [
    "#Create two tuples (1,4,5,6,7,8) (5,6,7,8,9)\n",
    "\n",
    "tuple1 = (1,4,5,6,7,8)\n",
    "tuple2 = (5,6,7,8,9)\n",
    "\n",
    "#Find the common elements between two tuples\n",
    "\n",
    "x = set(tuple1)\n",
    "y = set(tuple2)\n",
    "\n",
    "z = x.intersection(y)\n",
    "print(\"Commonalities between Tuples :\",z)\n",
    "\n",
    "#Concatenate both tuples and remove duplicates from tuple\n",
    "\n",
    "new_tuple= tuple1 + tuple2\n",
    "print(new_tuple)\n",
    "\n",
    "dup = set(new_tuple)\n",
    "org = tuple(dup)\n",
    "print(\"Updated set is:\",org)\n",
    "\n",
    "#Find the index value of 9 (after concatenation)\n",
    "\n",
    "find9 = new_tuple[9]\n",
    "print(\"Index value of 9 is:\",find9)\n",
    "\n",
    "#multiply above elements 3 times\n",
    "\n",
    "mul = org*3\n",
    "print(\"Tuple times thrice is:\",mul)"
   ]
  },
  {
   "cell_type": "markdown",
   "id": "95692e95",
   "metadata": {},
   "source": [
    "# SET"
   ]
  },
  {
   "cell_type": "code",
   "execution_count": 3,
   "id": "46e07445",
   "metadata": {},
   "outputs": [
    {
     "name": "stdout",
     "output_type": "stream",
     "text": [
      "the updated set1 is: {0, 1, 2, 3, 4, 5, 7, 8, 9}\n",
      "the updated set2 is: {0, 4, 5, 6}\n",
      "False\n",
      "Commonalities between two sets are: {0, 4, 5}\n",
      "8 is removed from both sets, results in: {0, 1, 2, 3, 4, 5, 7, 9}\n",
      "Discardal of Zero by set1 is {1, 2, 3, 4, 5, 7, 9} and set2 is {4, 5, 6} \n"
     ]
    }
   ],
   "source": [
    "#Create two empty sets\n",
    "\n",
    "set1 = set()\n",
    "set2 = set()\n",
    "\n",
    "#update set1 with 7,8,9,1,2,3,4,5,0\n",
    "\n",
    "new_set1 = (7,8,9,1,2,3,4,5,0)\n",
    "set1.update(new_set1)\n",
    "print(\"the updated set1 is:\",set1)\n",
    "\n",
    "#update set2 with 4,5,6,0\n",
    "\n",
    "new_set2 = (4,5,6,0)\n",
    "set2.update(new_set2)\n",
    "print(\"the updated set2 is:\",set2)\n",
    "\n",
    "#check whether set2 is subset of set1 or no\n",
    "\n",
    "x = set2.issubset(set1)\n",
    "print(x)\n",
    "\n",
    "#check whether both have common elements are no ?\n",
    "\n",
    "common = set1.intersection(set2)\n",
    "print(\"Commonalities between two sets are:\",common)\n",
    "\n",
    "#remove 8 from set 1 and set 2 ==> find the inferences\n",
    "\n",
    "set1.remove(8)\n",
    "print(\"8 is removed from both sets, results in:\",set1)\n",
    "\n",
    "#discard 0 from set1 and set2\n",
    "\n",
    "set1.discard(0)\n",
    "set2.discard(0)             \n",
    "print(\"Discardal of Zero by set1 is {} and set2 is {} \".format(set1,set2))"
   ]
  },
  {
   "cell_type": "markdown",
   "id": "d9646b89",
   "metadata": {},
   "source": [
    "# DICTIONARY"
   ]
  },
  {
   "cell_type": "code",
   "execution_count": 4,
   "id": "bc95b7a0",
   "metadata": {},
   "outputs": [
    {
     "name": "stdout",
     "output_type": "stream",
     "text": [
      "{1: ['english', 'maths', 'science'], 2: [10, 20, 30], 3: ['bio-botany', 'bio-zoology', 'Algebra']}\n",
      "The key3 values are: ['bio-botany', 'bio-zoology', 'Algebra']\n",
      "the extract output1: bobtn\n",
      "the extract output2 is: Arbeg\n",
      "The keys are in dictionaries are: dict_keys([1, 2, 3])\n",
      "the keys in tuple format : (1, 2, 3)\n",
      "the key2 values are: [10, 20, 30]\n",
      "the mean of key2 value is: 20.0\n"
     ]
    }
   ],
   "source": [
    "#create a dictionary using input {1:[\"english\",\"maths\",\"science\"], 2:[10,20,30], 3:[\"bio-botany\",\"bio-zoology\",\"Algebra\"]}\n",
    "\n",
    "dict1 = {1:[\"english\",\"maths\",\"science\"],\n",
    "         2:[10,20,30],\n",
    "         3:[\"bio-botany\",\"bio-zoology\",\"Algebra\"]}\n",
    "print(dict1)\n",
    "\n",
    "x = dict1.get(3)\n",
    "print(\"The key3 values are:\",x)\n",
    "y = x[0]\n",
    "\n",
    "#Extract \"bobtn\" from above dictionary\n",
    "\n",
    "var_bobtn = y[0]+y[2]+y[4]+y[6]+y[8]\n",
    "print(\"the extract output1:\",var_bobtn)\n",
    "\n",
    "#Extract \"arbeg\" from above dictionary\n",
    "\n",
    "z= x[2]\n",
    "var_arbeg = z[0]+z[5]+z[4]+z[3]+z[2]\n",
    "print(\"the extract output2 is:\",var_arbeg)\n",
    "\n",
    "#print all keys in dictionary and convert it into tuple\n",
    "\n",
    "allkeys = dict1.keys()\n",
    "print(\"The keys are in dictionaries are:\",allkeys)\n",
    "\n",
    "tup1 = tuple(allkeys)\n",
    "print(\"the keys in tuple format :\",tup1)\n",
    "\n",
    "#Find the average of all numbers available under key \"2\"\n",
    "\n",
    "key2 = dict1.get(2)\n",
    "print(\"the key2 values are:\",key2)\n",
    "sum1= sum(key2)\n",
    "mean = (sum1/len(key2))\n",
    "print(\"the mean of key2 value is:\",mean)"
   ]
  },
  {
   "cell_type": "code",
   "execution_count": null,
   "id": "d9b15166",
   "metadata": {},
   "outputs": [],
   "source": []
  }
 ],
 "metadata": {
  "kernelspec": {
   "display_name": "Python 3",
   "language": "python",
   "name": "python3"
  },
  "language_info": {
   "codemirror_mode": {
    "name": "ipython",
    "version": 3
   },
   "file_extension": ".py",
   "mimetype": "text/x-python",
   "name": "python",
   "nbconvert_exporter": "python",
   "pygments_lexer": "ipython3",
   "version": "3.8.8"
  }
 },
 "nbformat": 4,
 "nbformat_minor": 5
}
