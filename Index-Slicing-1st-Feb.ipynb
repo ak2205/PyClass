{
 "cells": [
  {
   "cell_type": "code",
   "execution_count": 3,
   "id": "784874c6",
   "metadata": {},
   "outputs": [
    {
     "name": "stdout",
     "output_type": "stream",
     "text": [
      "yt\n",
      "pytho\n",
      "ret\n",
      "pyt\n",
      "hon_interpreter\n",
      "python_interpreter\n",
      "hon_int\n",
      "tho\n",
      "python_int\n",
      "n_interp\n",
      "thon_i\n",
      "python_i\n",
      "n_interpreter\n",
      "nter\n",
      "\n"
     ]
    }
   ],
   "source": [
    "#Index based Slicing in Python using String.\n",
    "\n",
    "#Here,\"python_interpreter\" is taken as our sample variable in order to perform various ways of slicing.\n",
    "\n",
    "#Lets index each and every single letter according with their index positions.\n",
    "#Thus the index positions start from 0 until index 17.\n",
    "#i.e; \"python_interpreter is both made to undergo forward as well as reverse indexing\"\n",
    "#  0   1   2   3   4   5   6   7   8   9   10   11   12   13   14   15   16   17\n",
    "#  p   y   t   h   o   n   _   i   n   t    e    r    p    r    e    t    e    r\n",
    "# -18 -17 -16 -15 -14 -13 -12 -11 -10  -9  -8   -7   -6   -5   -4   -3   -2   -1\n",
    "\n",
    "\n",
    "var = \"python_interpreter\"\n",
    "print(var[1:3]) #prints only letters 'y' and 't', since index pos from 1 to 3\n",
    "print(var[0:5]) #prints letters starting from 'p' and ends with 'o',i.e; \"pytho\"\n",
    "print(var[-5:-2]) #prints in reverse fashion due to negative indexing\n",
    "print(var[:3]) #prints from starting until index '2'\n",
    "print(var[3:]) #prints from index 3 until the complete end of the provided string\n",
    "print(var[:]) #since there's empty indices, it is bound to print the entire string\n",
    "print(var[3:10]) #prints starting from index 3 until index 9\n",
    "print(var[2:5]) #prints from index 2 until index 4\n",
    "print(var[0:10]) #starts from origin and prints until index 9\n",
    "print(var[5:-5]) #starts from index 5 and ends on -4\n",
    "print(var[2:8]) #starts from index 2 until index 7\n",
    "print(var[:8]) #starts from origin until index 7\n",
    "print(var[5:]) #starts from index 5 and prints the entirety\n",
    "print(var[8:12]) #starts from index 8 and finishes on 11\n",
    "print(var[12:5]) #rejection due to illogical indexing hence \"empty\""
   ]
  },
  {
   "cell_type": "code",
   "execution_count": null,
   "id": "c38ceff1",
   "metadata": {},
   "outputs": [],
   "source": []
  },
  {
   "cell_type": "code",
   "execution_count": null,
   "id": "f5e6d00c",
   "metadata": {},
   "outputs": [],
   "source": []
  }
 ],
 "metadata": {
  "kernelspec": {
   "display_name": "Python 3",
   "language": "python",
   "name": "python3"
  },
  "language_info": {
   "codemirror_mode": {
    "name": "ipython",
    "version": 3
   },
   "file_extension": ".py",
   "mimetype": "text/x-python",
   "name": "python",
   "nbconvert_exporter": "python",
   "pygments_lexer": "ipython3",
   "version": "3.8.8"
  }
 },
 "nbformat": 4,
 "nbformat_minor": 5
}
