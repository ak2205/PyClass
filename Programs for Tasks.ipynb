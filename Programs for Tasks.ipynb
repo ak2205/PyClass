{
 "cells": [
  {
   "cell_type": "code",
   "execution_count": null,
   "id": "caffe55a",
   "metadata": {},
   "outputs": [],
   "source": [
    "#23rd of January\n",
    "#Data Types\n",
    "#Variables can store data of different types, and different types can do different things.\n",
    "#Text Type--string\n",
    "#Numeric Types--integer, float, complex\n",
    "#Boolean Type--boolean"
   ]
  },
  {
   "cell_type": "code",
   "execution_count": 3,
   "id": "d74c1322",
   "metadata": {},
   "outputs": [
    {
     "name": "stdout",
     "output_type": "stream",
     "text": [
      "99\n",
      "<class 'int'>\n",
      "4.98\n",
      "<class 'float'>\n",
      "(9+6j)\n",
      "<class 'complex'>\n"
     ]
    }
   ],
   "source": [
    "#Numeric Type\n",
    "#Integer-->It contains positive or negative whole numbers \n",
    "a=99\n",
    "print(a)\n",
    "print(type(a))\n",
    "#Float-->It is a real number with floating point representation. It is specified by a decimal point.\n",
    "b=4.98\n",
    "print(b)\n",
    "print(type(b))\n",
    "#Complex-->Its specified as real part+imaginary part with j\n",
    "c=9+6j\n",
    "print(c)\n",
    "print(type(c))"
   ]
  },
  {
   "cell_type": "code",
   "execution_count": 4,
   "id": "291764e6",
   "metadata": {},
   "outputs": [
    {
     "name": "stdout",
     "output_type": "stream",
     "text": [
      "New Zealand\n",
      "<class 'str'>\n"
     ]
    }
   ],
   "source": [
    "#Text type\n",
    "#String-->Strings can be created by enclosing characters inside a single quote or double-quotes.\n",
    "a=\"New Zealand\"\n",
    "print(a)\n",
    "print(type(a))"
   ]
  },
  {
   "cell_type": "code",
   "execution_count": 6,
   "id": "743422ff",
   "metadata": {},
   "outputs": [
    {
     "name": "stdout",
     "output_type": "stream",
     "text": [
      "True\n",
      "<class 'bool'>\n",
      "False\n",
      "<class 'bool'>\n"
     ]
    }
   ],
   "source": [
    "#Boolean Type-->One of built-in data type\n",
    "a = True\n",
    "b = False\n",
    "print(a)\n",
    "print(type(a))\n",
    "print(b)\n",
    "print(type(b))"
   ]
  },
  {
   "cell_type": "code",
   "execution_count": 7,
   "id": "62bad2ee",
   "metadata": {},
   "outputs": [
    {
     "name": "stdout",
     "output_type": "stream",
     "text": [
      "9000 9890\n"
     ]
    }
   ],
   "source": [
    "#24th of January\n",
    "#Rules for creating variables in python.\n",
    "#Variables should be usable name \n",
    "var1=9000\n",
    "var2=9890\n",
    "print(var1,var2)"
   ]
  },
  {
   "cell_type": "code",
   "execution_count": 11,
   "id": "dd8377fe",
   "metadata": {},
   "outputs": [
    {
     "name": "stdout",
     "output_type": "stream",
     "text": [
      "b D 5\n"
     ]
    }
   ],
   "source": [
    "#Variables should contain a-z A-Z 0-9 _\n",
    "var1=\"b\"\n",
    "var2=\"D\"\n",
    "var3= 5\n",
    "print(var1,var2,var3)"
   ]
  },
  {
   "cell_type": "code",
   "execution_count": 12,
   "id": "834c4aac",
   "metadata": {},
   "outputs": [
    {
     "name": "stdout",
     "output_type": "stream",
     "text": [
      "900 700\n"
     ]
    }
   ],
   "source": [
    "#Variable should not start with numbers\n",
    "var1=900\n",
    "var2=700\n",
    "print(var1,var2)"
   ]
  },
  {
   "cell_type": "code",
   "execution_count": 13,
   "id": "2b6217d6",
   "metadata": {},
   "outputs": [
    {
     "ename": "SyntaxError",
     "evalue": "invalid syntax (<ipython-input-13-696687e694a9>, line 2)",
     "output_type": "error",
     "traceback": [
      "\u001b[1;36m  File \u001b[1;32m\"<ipython-input-13-696687e694a9>\"\u001b[1;36m, line \u001b[1;32m2\u001b[0m\n\u001b[1;33m    var a=99\u001b[0m\n\u001b[1;37m        ^\u001b[0m\n\u001b[1;31mSyntaxError\u001b[0m\u001b[1;31m:\u001b[0m invalid syntax\n"
     ]
    }
   ],
   "source": [
    "#Variable should not have space in it. \n",
    "var a=99\n",
    "print(var a)"
   ]
  },
  {
   "cell_type": "code",
   "execution_count": 14,
   "id": "a761d9a7",
   "metadata": {},
   "outputs": [
    {
     "name": "stdout",
     "output_type": "stream",
     "text": [
      "34444 245352 432412\n"
     ]
    }
   ],
   "source": [
    "#Try to use camel case as mush as possible for ling variable\n",
    "variableEmpSalary=34444\n",
    "variableEmpClaim=245352\n",
    "variableEmpPf=432412\n",
    "print(variableEmpSalary,variableEmpClaim,variableEmpPf)"
   ]
  },
  {
   "cell_type": "code",
   "execution_count": 15,
   "id": "267dbd6f",
   "metadata": {},
   "outputs": [
    {
     "ename": "SyntaxError",
     "evalue": "cannot assign to operator (<ipython-input-15-83a5b657ea43>, line 2)",
     "output_type": "error",
     "traceback": [
      "\u001b[1;36m  File \u001b[1;32m\"<ipython-input-15-83a5b657ea43>\"\u001b[1;36m, line \u001b[1;32m2\u001b[0m\n\u001b[1;33m    Batsman&Umpire=\"kumar dharmasena\"\u001b[0m\n\u001b[1;37m    ^\u001b[0m\n\u001b[1;31mSyntaxError\u001b[0m\u001b[1;31m:\u001b[0m cannot assign to operator\n"
     ]
    }
   ],
   "source": [
    "#Variable names are case sensitive\n",
    "Batsman&Umpire=\"kumar dharmasena\"\n",
    "print(Batsman_Umpire)"
   ]
  },
  {
   "cell_type": "code",
   "execution_count": null,
   "id": "d6472213",
   "metadata": {},
   "outputs": [],
   "source": [
    "#25th of January\n",
    "#Python Operators\n",
    "#Comparison Operators -->Its used to compare two values\n",
    "#such as ==,!=,>,<,>=,<=..."
   ]
  },
  {
   "cell_type": "code",
   "execution_count": 17,
   "id": "e2fe063d",
   "metadata": {},
   "outputs": [
    {
     "name": "stdout",
     "output_type": "stream",
     "text": [
      "False\n",
      "True\n",
      "False\n",
      "True\n"
     ]
    }
   ],
   "source": [
    "var1=8\n",
    "var2=1\n",
    "print(var1==var2)\n",
    "print(var1!=var2)\n",
    "print(var1<var2)\n",
    "print(var1>=var2)"
   ]
  },
  {
   "cell_type": "code",
   "execution_count": 18,
   "id": "36c1ea88",
   "metadata": {},
   "outputs": [
    {
     "name": "stdout",
     "output_type": "stream",
     "text": [
      "9\n"
     ]
    }
   ],
   "source": [
    "#Assingnment operator-->assign values to variables\n",
    "#such as =,+=,-=,*=,%=,/=,\n",
    "a=9\n",
    "b=0\n",
    "print(a)"
   ]
  },
  {
   "cell_type": "code",
   "execution_count": 20,
   "id": "2ebbf8e6",
   "metadata": {},
   "outputs": [
    {
     "name": "stdout",
     "output_type": "stream",
     "text": [
      "False\n",
      "False\n",
      "False\n",
      "True\n"
     ]
    }
   ],
   "source": [
    "#Logical operator-->Combine conditional statements \n",
    "#such as and,or,not\n",
    "x=8\n",
    "y=2\n",
    "print(x<y and x==y)\n",
    "print(x<y and x!=y)\n",
    "print(x>y and x==y)\n",
    "print(x>y and x!=y)"
   ]
  },
  {
   "cell_type": "code",
   "execution_count": 21,
   "id": "9f34db2e",
   "metadata": {},
   "outputs": [
    {
     "name": "stdout",
     "output_type": "stream",
     "text": [
      "True\n",
      "True\n",
      "False\n",
      "True\n"
     ]
    }
   ],
   "source": [
    "input1=89\n",
    "input2=69\n",
    "print(input1>input2 or input1==input2)\n",
    "print(input1>input2 or input1!=input2)\n",
    "print(input1<input2 or input1==input2)\n",
    "print(input1<input2 or input1!=input2)"
   ]
  },
  {
   "cell_type": "code",
   "execution_count": 22,
   "id": "a6134d6c",
   "metadata": {},
   "outputs": [
    {
     "name": "stdout",
     "output_type": "stream",
     "text": [
      "the value of x is: 27\n"
     ]
    }
   ],
   "source": [
    "#ternary operator\n",
    "a=9\n",
    "x=27 if a>2 else 89\n",
    "print(\"the value of x is:\",x)"
   ]
  },
  {
   "cell_type": "code",
   "execution_count": 25,
   "id": "51776f86",
   "metadata": {},
   "outputs": [
    {
     "name": "stdout",
     "output_type": "stream",
     "text": [
      "True\n",
      "False\n",
      "True\n"
     ]
    }
   ],
   "source": [
    "#Membership operator-->a value is presented in or not in object\n",
    "print(5 in [1,2,3,4,5])\n",
    "print(\"o\" in \"cricket\")\n",
    "print(\"t\" in \"south africa\")"
   ]
  },
  {
   "cell_type": "code",
   "execution_count": 28,
   "id": "75608a9e",
   "metadata": {},
   "outputs": [
    {
     "name": "stdout",
     "output_type": "stream",
     "text": [
      "a & b= 2\n",
      "a | b= 11\n",
      "~a = -12\n",
      "a ^ b= 9\n"
     ]
    }
   ],
   "source": [
    "#Bitwise operator-->bitwise calculations on integer\n",
    "#such as AND,OR,NOT,XOR\n",
    "a=11 #1011\n",
    "b=2  #0010\n",
    "print(\"a & b=\",a & b) #0000\n",
    "print(\"a | b=\",a | b) #0100\n",
    "print(\"~a =\",~a)#-1011\n",
    "print(\"a ^ b=\",a ^ b) #1110"
   ]
  },
  {
   "cell_type": "code",
   "execution_count": null,
   "id": "9532bef3",
   "metadata": {},
   "outputs": [],
   "source": []
  }
 ],
 "metadata": {
  "kernelspec": {
   "display_name": "Python 3",
   "language": "python",
   "name": "python3"
  },
  "language_info": {
   "codemirror_mode": {
    "name": "ipython",
    "version": 3
   },
   "file_extension": ".py",
   "mimetype": "text/x-python",
   "name": "python",
   "nbconvert_exporter": "python",
   "pygments_lexer": "ipython3",
   "version": "3.8.8"
  }
 },
 "nbformat": 4,
 "nbformat_minor": 5
}
