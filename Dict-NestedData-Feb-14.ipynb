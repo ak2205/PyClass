{
 "cells": [
  {
   "cell_type": "code",
   "execution_count": 15,
   "id": "51ce6ab1",
   "metadata": {},
   "outputs": [
    {
     "name": "stdout",
     "output_type": "stream",
     "text": [
      "5\n",
      "56\n",
      "222\n",
      "50000\n",
      "put\n",
      "5555\n",
      "7777\n",
      "666\n",
      "89\n",
      "on\n",
      "333\n",
      "3333\n"
     ]
    }
   ],
   "source": [
    "#Task1:\n",
    "\n",
    "a = [2,3,4,5,[45,56,67,78,[111,222,333,[5555,3333,[10000,50000,\"python\",\"computer\"],1111,7777,8888],444,555,666,777],89,23,34]]\n",
    "\n",
    "print(a[3])\n",
    "print(a[4][1])\n",
    "print(a[4][4][1])\n",
    "print(a[4][4][3][2][1])\n",
    "\n",
    "b=(a[4][4][3][2][3][3:6])\n",
    "\n",
    "print(b)\n",
    "print(a[4][4][3][0])\n",
    "print(a[4][4][3][-2])\n",
    "print(a[4][4][-2])\n",
    "print(a[4][-3])\n",
    "print(a[4][4][3][2][2][4:])\n",
    "print(a[4][4][2])\n",
    "print(a[4][4][3][1])"
   ]
  },
  {
   "cell_type": "code",
   "execution_count": 16,
   "id": "16be5e87",
   "metadata": {},
   "outputs": [
    {
     "name": "stdout",
     "output_type": "stream",
     "text": [
      "Computer\n",
      "science\n"
     ]
    }
   ],
   "source": [
    "#Task2\n",
    "\n",
    "a = [1,2,3,4,[100,101,102,\"Computer_science\"],200,203]\n",
    "\n",
    "print(a[4][3][:8])\n",
    "print(a[4][3][9:])"
   ]
  },
  {
   "cell_type": "code",
   "execution_count": 17,
   "id": "eca6069c",
   "metadata": {},
   "outputs": [
    {
     "name": "stdout",
     "output_type": "stream",
     "text": [
      "666\n",
      "[999]\n",
      "102\n",
      "201\n",
      "777\n"
     ]
    }
   ],
   "source": [
    "#task3\n",
    "\n",
    "a = [1,2,3,4,[101,102,103,[201,202,[999]], 666, 777]]\n",
    "\n",
    "print(a[-1][-2])\n",
    "print(a[4][3][2])\n",
    "print(a[4][1])\n",
    "print(a[4][3][0])\n",
    "print(a[-1][-1])"
   ]
  },
  {
   "cell_type": "code",
   "execution_count": 18,
   "id": "2408d6ea",
   "metadata": {},
   "outputs": [
    {
     "name": "stdout",
     "output_type": "stream",
     "text": [
      "thon\n",
      "ll\n"
     ]
    }
   ],
   "source": [
    "#Task4:\n",
    "\n",
    "a= [2,3,\"python\",\"hello\",4,5,0]  \n",
    "\n",
    "print(a[2][2:])\n",
    "print(a[3][2:-1])"
   ]
  },
  {
   "cell_type": "code",
   "execution_count": 5,
   "id": "4b2e201d",
   "metadata": {},
   "outputs": [
    {
     "name": "stdout",
     "output_type": "stream",
     "text": [
      "11\n",
      "6666\n",
      "6666\n",
      "7777\n",
      "7777\n",
      "222\n",
      "7777\n",
      "[33, 44]\n"
     ]
    }
   ],
   "source": [
    "#Task5\n",
    "Li1 = [1,2,3,4,5,[11,22,33,44,55,[111,222,333,444],6666,7777],7777]\n",
    "\n",
    "\n",
    "print(Li1[5][0]) #11\n",
    "print(Li1[5][6]) #6666\n",
    "print(Li1[5][-2]) #6666\n",
    "print(Li1[5][7]) #7777\n",
    "print(Li1[6]) #7777\n",
    "print(Li1[5][5][1])#222\n",
    "print(Li1[-2][-1])#7777\n",
    "print(Li1[-2][2:4]) #[33,44]"
   ]
  },
  {
   "cell_type": "code",
   "execution_count": 6,
   "id": "7a56b486",
   "metadata": {},
   "outputs": [
    {
     "name": "stdout",
     "output_type": "stream",
     "text": [
      "ello\n",
      "py\n",
      "en\n",
      "zoo\n",
      "Bot\n"
     ]
    }
   ],
   "source": [
    "#Task6:\n",
    "\n",
    "a = {1: [1,2,3,\"python\"], 2:{10:\"hello\",20:\"welcome\",40: \"science\"}, 99: {3,4,5,6}, 40:{1:\"zoology\", 2:\"Botany\"}}\n",
    "\n",
    "print(a[2][10][1:])\n",
    "print(a[1][3][:2])\n",
    "print(a[2][40][3:5])\n",
    "print(a[40][1][:3])\n",
    "print(a[40][2][:3])"
   ]
  },
  {
   "cell_type": "code",
   "execution_count": 7,
   "id": "7333be88",
   "metadata": {},
   "outputs": [
    {
     "name": "stdout",
     "output_type": "stream",
     "text": [
      "{1: 'python', 2: 'cpp', 3: 'c', 4: 'java', 5: 'php'}\n"
     ]
    }
   ],
   "source": [
    "#task7\n",
    "\n",
    "a=[1,2,3,4,5]\n",
    "b=[\"python\",\"cpp\",\"c\",\"java\",\"php\"]\n",
    "\n",
    "c= dict(zip(a,b))\n",
    "print(c)"
   ]
  },
  {
   "cell_type": "code",
   "execution_count": 12,
   "id": "54a49658",
   "metadata": {},
   "outputs": [
    {
     "name": "stdout",
     "output_type": "stream",
     "text": [
      "<class 'list'>\n"
     ]
    }
   ],
   "source": [
    "#task8\n",
    "\n",
    "a = {5,4,3,6,2,7,1}\n",
    "a = list(a)\n",
    "\n",
    "print(type(a))"
   ]
  },
  {
   "cell_type": "code",
   "execution_count": 13,
   "id": "9c1f714b",
   "metadata": {},
   "outputs": [
    {
     "name": "stdout",
     "output_type": "stream",
     "text": [
      "{1, 2, 3, 4, 5, 6, 7}\n",
      "<class 'set'>\n"
     ]
    }
   ],
   "source": [
    "#task9\n",
    "\n",
    "a=[5,4,3,6,2,7,1,2,3,4,1,2,3,4,5,6,5]\n",
    "a=set(a)\n",
    "\n",
    "print(a)\n",
    "print(type(a))"
   ]
  },
  {
   "cell_type": "code",
   "execution_count": 14,
   "id": "c9e306b5",
   "metadata": {},
   "outputs": [
    {
     "name": "stdout",
     "output_type": "stream",
     "text": [
      "[5, 4, 3, 6, 2, 7, 1, 2, 3, 4, 1, 2, 3, 4, 5, 6, 5]\n",
      "(5, 4, 3, 6, 2, 7, 1, 2, 3, 4, 1, 2, 3, 4, 5, 6, 5)\n",
      "<class 'tuple'>\n"
     ]
    }
   ],
   "source": [
    "#task10\n",
    "\n",
    "a=[5,4,3,6,2,7,1,2,3,4,1,2,3,4,5,6,5]\n",
    "print(a)\n",
    "\n",
    "a=tuple(a)\n",
    "print(a)\n",
    "print(type(a))"
   ]
  },
  {
   "cell_type": "code",
   "execution_count": null,
   "id": "fb5f287e",
   "metadata": {},
   "outputs": [],
   "source": []
  }
 ],
 "metadata": {
  "kernelspec": {
   "display_name": "Python 3",
   "language": "python",
   "name": "python3"
  },
  "language_info": {
   "codemirror_mode": {
    "name": "ipython",
    "version": 3
   },
   "file_extension": ".py",
   "mimetype": "text/x-python",
   "name": "python",
   "nbconvert_exporter": "python",
   "pygments_lexer": "ipython3",
   "version": "3.8.8"
  }
 },
 "nbformat": 4,
 "nbformat_minor": 5
}
